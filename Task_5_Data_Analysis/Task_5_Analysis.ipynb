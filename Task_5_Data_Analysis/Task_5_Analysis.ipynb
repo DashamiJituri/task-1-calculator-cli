{
 "cells": [
  {
   "cell_type": "code",
   "execution_count": 1,
   "id": "63c82f93",
   "metadata": {},
   "outputs": [],
   "source": [
    "import pandas as pd\n",
    "import matplotlib.pyplot as plt\n",
    "\n"
   ]
  },
  {
   "cell_type": "code",
   "execution_count": 9,
   "id": "09217239",
   "metadata": {},
   "outputs": [
    {
     "data": {
      "text/html": [
       "<div>\n",
       "<style scoped>\n",
       "    .dataframe tbody tr th:only-of-type {\n",
       "        vertical-align: middle;\n",
       "    }\n",
       "\n",
       "    .dataframe tbody tr th {\n",
       "        vertical-align: top;\n",
       "    }\n",
       "\n",
       "    .dataframe thead th {\n",
       "        text-align: right;\n",
       "    }\n",
       "</style>\n",
       "<table border=\"1\" class=\"dataframe\">\n",
       "  <thead>\n",
       "    <tr style=\"text-align: right;\">\n",
       "      <th></th>\n",
       "      <th>Region</th>\n",
       "      <th>Product</th>\n",
       "      <th>Quantity</th>\n",
       "      <th>Sales</th>\n",
       "    </tr>\n",
       "  </thead>\n",
       "  <tbody>\n",
       "    <tr>\n",
       "      <th>0</th>\n",
       "      <td>East</td>\n",
       "      <td>Pen</td>\n",
       "      <td>100</td>\n",
       "      <td>500</td>\n",
       "    </tr>\n",
       "    <tr>\n",
       "      <th>1</th>\n",
       "      <td>West</td>\n",
       "      <td>Pencil</td>\n",
       "      <td>200</td>\n",
       "      <td>600</td>\n",
       "    </tr>\n",
       "    <tr>\n",
       "      <th>2</th>\n",
       "      <td>North</td>\n",
       "      <td>Binder</td>\n",
       "      <td>150</td>\n",
       "      <td>900</td>\n",
       "    </tr>\n",
       "    <tr>\n",
       "      <th>3</th>\n",
       "      <td>South</td>\n",
       "      <td>Marker</td>\n",
       "      <td>80</td>\n",
       "      <td>400</td>\n",
       "    </tr>\n",
       "    <tr>\n",
       "      <th>4</th>\n",
       "      <td>East</td>\n",
       "      <td>Pen</td>\n",
       "      <td>120</td>\n",
       "      <td>600</td>\n",
       "    </tr>\n",
       "  </tbody>\n",
       "</table>\n",
       "</div>"
      ],
      "text/plain": [
       "  Region Product  Quantity  Sales\n",
       "0   East     Pen       100    500\n",
       "1   West  Pencil       200    600\n",
       "2  North  Binder       150    900\n",
       "3  South  Marker        80    400\n",
       "4   East     Pen       120    600"
      ]
     },
     "execution_count": 9,
     "metadata": {},
     "output_type": "execute_result"
    }
   ],
   "source": [
    "import pandas as pd\n",
    "\n",
    "df = pd.read_csv('data/sales_data.csv')\n",
    "df.head()\n"
   ]
  },
  {
   "cell_type": "code",
   "execution_count": 10,
   "id": "e2391c22",
   "metadata": {},
   "outputs": [
    {
     "name": "stdout",
     "output_type": "stream",
     "text": [
      "Data Shape: (8, 4)\n",
      "\n",
      "Column Info:\n",
      "<class 'pandas.core.frame.DataFrame'>\n",
      "RangeIndex: 8 entries, 0 to 7\n",
      "Data columns (total 4 columns):\n",
      " #   Column    Non-Null Count  Dtype \n",
      "---  ------    --------------  ----- \n",
      " 0   Region    8 non-null      object\n",
      " 1   Product   8 non-null      object\n",
      " 2   Quantity  8 non-null      int64 \n",
      " 3   Sales     8 non-null      int64 \n",
      "dtypes: int64(2), object(2)\n",
      "memory usage: 388.0+ bytes\n",
      "None\n",
      "\n",
      "Statistical Summary:\n",
      "         Quantity       Sales\n",
      "count    8.000000    8.000000\n",
      "mean   127.500000  586.250000\n",
      "std     44.320263  157.927425\n",
      "min     80.000000  400.000000\n",
      "25%     97.500000  487.500000\n",
      "50%    110.000000  570.000000\n",
      "75%    157.500000  625.000000\n",
      "max    200.000000  900.000000\n"
     ]
    }
   ],
   "source": [
    "# Summary of data\n",
    "print(\"Data Shape:\", df.shape)\n",
    "print(\"\\nColumn Info:\")\n",
    "print(df.info())\n",
    "print(\"\\nStatistical Summary:\")\n",
    "print(df.describe())\n"
   ]
  },
  {
   "cell_type": "code",
   "execution_count": 11,
   "id": "65ed4e7a",
   "metadata": {},
   "outputs": [
    {
     "name": "stdout",
     "output_type": "stream",
     "text": [
      "Missing values in each column:\n",
      "Region      0\n",
      "Product     0\n",
      "Quantity    0\n",
      "Sales       0\n",
      "dtype: int64\n"
     ]
    }
   ],
   "source": [
    "# Check for null values\n",
    "print(\"Missing values in each column:\")\n",
    "print(df.isnull().sum())\n"
   ]
  },
  {
   "cell_type": "code",
   "execution_count": 12,
   "id": "ddb85bb7",
   "metadata": {},
   "outputs": [
    {
     "name": "stdout",
     "output_type": "stream",
     "text": [
      "Region\n",
      "East     1100\n",
      "North    1600\n",
      "South     850\n",
      "West     1140\n",
      "Name: Sales, dtype: int64\n"
     ]
    }
   ],
   "source": [
    "# Total Sales by Region\n",
    "region_sales = df.groupby('Region')['Sales'].sum()\n",
    "print(region_sales)\n"
   ]
  },
  {
   "cell_type": "code",
   "execution_count": 14,
   "id": "7d306095",
   "metadata": {},
   "outputs": [
    {
     "data": {
      "image/png": "[encoded data removed]",
      "text/plain": [
       "<Figure size 640x480 with 1 Axes>"
      ]
     },
     "metadata": {},
     "output_type": "display_data"
    }
   ],
   "source": [
    "region_sales.plot(kind='bar', title='Total Sales by Region', color='skyblue')\n",
    "plt.xlabel('Region')\n",
    "plt.ylabel('Sales')\n",
    "plt.tight_layout()\n",
    "plt.savefig('charts/sales_by_region.png')  # ✅ Will now work\n",
    "plt.show()\n"
   ]
  },
  {
   "cell_type": "code",
   "execution_count": null,
   "id": "cfda7516",
   "metadata": {},
   "outputs": [],
   "source": []
  }
 ],
 "metadata": {
  "kernelspec": {
   "display_name": "venv",
   "language": "python",
   "name": "venv"
  },
  "language_info": {
   "codemirror_mode": {
    "name": "ipython",
    "version": 3
   },
   "file_extension": ".py",
   "mimetype": "text/x-python",
   "name": "python",
   "nbconvert_exporter": "python",
   "pygments_lexer": "ipython3",
   "version": "3.13.2"
  }
 },
 "nbformat": 4,
 "nbformat_minor": 5
}
